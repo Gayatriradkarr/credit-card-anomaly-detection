{
 "cells": [
  {
   "cell_type": "markdown",
   "metadata": {},
   "source": [
    "# Credit Card Anomaly Detection Visualizations\n",
    "\n",
    "This notebook generates visualizations for the Credit Card Anomaly Detection project, including transaction amount distributions, hourly spending heatmaps, and flagged anomalies. Images are saved in `visuals/` for Tableau and documentation.\n",
    "\n",
    "**Visuals**:\n",
    "- Transaction Amount Distribution\n",
    "- Hourly Spending Heatmap\n",
    "- Flagged Anomalies Scatter Plot"
   ]
  },
  {
   "cell_type": "code",
   "execution_count": null,
   "metadata": {},
   "outputs": [],
   "source": [
    "import pandas as pd\n",
    "import matplotlib.pyplot as plt\n",
    "import seaborn as sns\n",
    "from pathlib import Path\n",
    "\n",
    "# Set up file paths\n",
    "DATA_DIR = Path('../data')\n",
    "VISUALS_DIR = Path('../visuals')\n",
    "INPUT_FILE = DATA_DIR / 'Flagged_Transactions.csv'\n",
    "VISUALS_DIR.mkdir(exist_ok=True)\n",
    "\n",
    "# Set Seaborn style\n",
    "sns.set_style('whitegrid')\n",
    "sns.set_context('notebook', font_scale=1.2)\n",
    "\n",
    "# Load data\n",
    "df = pd.read_csv(INPUT_FILE)\n",
    "df['Transaction_Date'] = pd.to_datetime(df['Transaction_Date'])\n",
    "print('Data Shape:', df.shape)\n",
    "print(df.head())"
   ]
  },
  {
   "cell_type": "code",
   "execution_count": null,
   "metadata": {},
   "outputs": [],
   "source": [
    "# Visualization 1: Transaction Amount Distribution\n",
    "plt.figure(figsize=(12, 8))\n",
    "sns.histplot(data=df, x='Transaction_Amount', bins=30, kde=True, color='blue')\n",
    "plt.axvline(x=df['Transaction_Amount'].quantile(0.99), color='red', linestyle='--', label='99th Percentile')\n",
    "plt.title('Transaction Amount Distribution', fontsize=16, pad=15)\n",
    "plt.xlabel('Transaction Amount (USD)', fontsize=12)\n",
    "plt.ylabel('Frequency', fontsize=12)\n",
    "plt.legend()\n",
    "plt.tight_layout()\n",
    "plt.savefig(VISUALS_DIR / 'Transaction_Amount_Distribution.png', dpi=300, bbox_inches='tight')\n",
    "plt.show()"
   ]
  },
  {
   "cell_type": "code",
   "execution_count": null,
   "metadata": {},
   "outputs": [],
   "source": [
    "# Visualization 2: Hourly Spending Heatmap\n",
    "df['Hour'] = df['Transaction_Date'].dt.hour\n",
    "df['Day'] = df['Transaction_Date'].dt.day_name()\n",
    "heatmap_data = df.pivot_table(values='Transaction_Amount', index='Day', columns='Hour', aggfunc='sum', fill_value=0)\n",
    "plt.figure(figsize=(14, 8))\n",
    "sns.heatmap(heatmap_data, cmap='YlOrRd', annot=True, fmt='.0f', cbar_kws={'label': 'Total Amount (USD)'})\n",
    "plt.title('Hourly Spending Heatmap by Day', fontsize=16, pad=15)\n",
    "plt.xlabel('Hour of Day', fontsize=12)\n",
    "plt.ylabel('Day of Week', fontsize=12)\n",
    "plt.tight_layout()\n",
    "plt.savefig(VISUALS_DIR / 'Hourly_Spending_Heatmap.png', dpi=300, bbox_inches='tight')\n",
    "plt.show()"
   ]
  },
  {
   "cell_type": "code",
   "execution_count": null,
   "metadata": {},
   "outputs": [],
   "source": [
    "# Visualization 3: Flagged Anomalies Scatter Plot\n",
    "plt.figure(figsize=(12, 8))\n",
    "sns.scatterplot(\n",
    "    data=df,\n",
    "    x='Transaction_Date',\n",
    "    y='Transaction_Amount',\n",
    "    hue='Rule_Flag',\n",
    "    style='Rule_Flag',\n",
    "    size='Z_Score_Amount',\n",
    "    sizes=(50, 200),\n",
    "    alpha=0.7,\n",
    "    palette='deep'\n",
    ")\n",
    "plt.title('Flagged Anomalies by Transaction Date', fontsize=16, pad=15)\n",
    "plt.xlabel('Transaction Date', fontsize=12)\n",
    "plt.ylabel('Transaction Amount (USD)', fontsize=12)\n",
    "plt.legend(bbox_to_anchor=(1.05, 1), loc='upper left', fontsize=10)\n",
    "plt.tight_layout()\n",
    "plt.savefig(VISUALS_DIR / 'Flagged_Anomalies.png', dpi=300, bbox_inches='tight')\n",
    "plt.show()"
   ]
  },
  {
   "cell_type": "code",
   "execution_count": null,
   "metadata": {},
   "outputs": [],
   "source": [
    "# Save data for Tableau\n",
    "df.to_csv(DATA_DIR / 'Flagged_Transactions_for_Tableau.csv', index=False)\n",
    "print('Visuals saved in visuals/ and data saved in data/ for Tableau import.')"
   ]
  }
 ],
 "metadata": {
  "kernelspec": {
   "display_name": "Python 3",
   "language": "python",
   "name": "python3"
  }
 },
 "nbformat": 4,
 "nbformat_minor": 2
}