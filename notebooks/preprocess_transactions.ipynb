{
 "cells": [
  {
   "cell_type": "markdown",
   "metadata": {},
   "source": [
    "# Credit Card Transaction Data Preprocessing\n",
    "\n",
    "This notebook loads the credit card transaction data from `Transaction_Data.xlsx`, cleans it, computes Z-scores for statistical profiling, and saves a cleaned dataset for anomaly detection and Tableau import."
   ]
  },
  {
   "cell_type": "code",
   "execution_count": null,
   "metadata": {},
   "outputs": [],
   "source": [
    "import pandas as pd\n",
    "import numpy as np\n",
    "from pathlib import Path\n",
    "\n",
    "# Set up file paths\n",
    "DATA_DIR = Path('../data')\n",
    "INPUT_FILE = DATA_DIR / 'Transaction_Data.xlsx'\n",
    "OUTPUT_FILE = DATA_DIR / 'Cleaned_Transaction_Data.xlsx'\n",
    "DATA_DIR.mkdir(exist_ok=True)\n",
    "\n",
    "# Load data\n",
    "try:\n",
    "    df = pd.read_excel(INPUT_FILE)\n",
    "    print('Data Shape:', df.shape)\n",
    "    print(df.head())\n",
    "except FileNotFoundError:\n",
    "    print(f'Error: {INPUT_FILE} not found.')\n",
    "    raise"
   ]
  },
  {
   "cell_type": "code",
   "execution_count": null,
   "metadata": {},
   "outputs": [],
   "source": [
    "# Handle missing values\n",
    "print('Missing Values:\\n', df.isnull().sum())\n",
    "df['Is_Fraud'] = df['Is_Fraud'].fillna('No')\n",
    "df['Merchant'] = df['Merchant'].fillna('Unknown')\n",
    "df['Location'] = df['Location'].fillna('Unknown')\n",
    "df = df.dropna(subset=['Transaction_ID', 'User_ID', 'Transaction_Amount', 'Transaction_Date'])\n",
    "print('Data Shape after cleaning:', df.shape)"
   ]
  },
  {
   "cell_type": "code",
   "execution_count": null,
   "metadata": {},
   "outputs": [],
   "source": [
    "# Convert data types\n",
    "df['Transaction_Date'] = pd.to_datetime(df['Transaction_Date'], errors='coerce')\n",
    "df['Transaction_Amount'] = pd.to_numeric(df['Transaction_Amount'], errors='coerce')\n",
    "\n",
    "# Compute Z-scores for each user's transactions\n",
    "df['Z_Score_Amount'] = df.groupby('User_ID')['Transaction_Amount'].transform(\n",
    "    lambda x: (x - x.mean()) / x.std() if x.std() != 0 else 0\n",
    ")\n",
    "\n",
    "# Save cleaned data\n",
    "df.to_excel(OUTPUT_FILE, index=False)\n",
    "print(f'Cleaned data saved to {OUTPUT_FILE}')"
   ]
  }
 ],
 "metadata": {
  "kernelspec": {
   "display_name": "Python 3",
   "language": "python",
   "name": "python3"
  }
 },
 "nbformat": 4,
 "nbformat_minor": 2
}