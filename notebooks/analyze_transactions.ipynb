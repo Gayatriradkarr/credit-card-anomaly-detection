{
 "cells": [
  {
   "cell_type": "markdown",
   "metadata": {},
   "source": [
    "# Credit Card Anomaly Detection Analysis\n",
    "\n",
    "This notebook applies rule-based and statistical anomaly detection to identify suspicious credit card transactions. It flags high-amount transactions, rapid succession transactions, and off-hour activity, and saves results for Tableau."
   ]
  },
  {
   "cell_type": "code",
   "execution_count": null,
   "metadata": {},
   "outputs": [],
   "source": [
    "import pandas as pd\n",
    "import numpy as np\n",
    "from pathlib import Path\n",
    "\n",
    "# Set up file paths\n",
    "DATA_DIR = Path('../data')\n",
    "INPUT_FILE = DATA_DIR / 'Cleaned_Transaction_Data.xlsx'\n",
    "OUTPUT_FILE = DATA_DIR / 'Flagged_Transactions.csv'\n",
    "\n",
    "# Load cleaned data\n",
    "df = pd.read_excel(INPUT_FILE)\n",
    "print('Data Shape:', df.shape)\n",
    "df.head()"
   ]
  },
  {
   "cell_type": "code",
   "execution_count": null,
   "metadata": {},
   "outputs": [],
   "source": [
    "# Rule-Based Detection\n",
    "# Rule 1: High Amount (above 99th percentile)\n",
    "amount_threshold = df['Transaction_Amount'].quantile(0.99)\n",
    "df['Rule_Flag'] = np.where(df['Transaction_Amount'] > amount_threshold, 'High_Amount', df['Rule_Flag'].fillna(''))\n",
    "\n",
    "# Rule 2: Rapid Succession (multiple transactions within 5 minutes)\n",
    "df = df.sort_values(['User_ID', 'Transaction_Date'])\n",
    "df['Time_Diff'] = df.groupby('User_ID')['Transaction_Date'].diff().dt.total_seconds() / 60\n",
    "df['Rule_Flag'] = np.where(\n",
    "    (df['Time_Diff'] <= 5) & (df['Time_Diff'].notnull()),\n",
    "    df['Rule_Flag'] + ',Rapid_Succession',\n",
    "    df['Rule_Flag']\n",
    ")\n",
    "\n",
    "# Rule 3: Off-Hour Transactions (2 AM–4 AM)\n",
    "df['Hour'] = df['Transaction_Date'].dt.hour\n",
    "df['Rule_Flag'] = np.where(\n",
    "    df['Hour'].isin([2, 3]),\n",
    "    df['Rule_Flag'] + ',Off_Hour',\n",
    "    df['Rule_Flag']\n",
    ")\n",
    "\n",
    "# Clean up Rule_Flag\n",
    "df['Rule_Flag'] = df['Rule_Flag'].replace('', 'None').str.strip(',')\n",
    "\n",
    "# Statistical Profiling: Flag high Z-scores (>2.5)\n",
    "df['Rule_Flag'] = np.where(\n",
    "    df['Z_Score_Amount'].abs() > 2.5,\n",
    "    df['Rule_Flag'] + ',High_Z_Score',\n",
    "    df['Rule_Flag']\n",
    ")\n",
    "\n",
    "print('Flagged Transactions:\\n', df[df['Rule_Flag'] != 'None'][['Transaction_ID', 'User_ID', 'Transaction_Amount', 'Rule_Flag']])"
   ]
  },
  {
   "cell_type": "code",
   "execution_count": null,
   "metadata": {},
   "outputs": [],
   "source": [
    "# Save flagged transactions\n",
    "df.to_csv(OUTPUT_FILE, index=False)\n",
    "print(f'Flagged transactions saved to {OUTPUT_FILE}')"
   ]
  }
 ],
 "metadata": {
  "kernelspec": {
   "display_name": "Python 3",
   "language": "python",
   "name": "python3"
  }
 },
 "nbformat": 4,
 "nbformat_minor": 2
}